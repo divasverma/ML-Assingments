{
 "cells": [
  {
   "cell_type": "code",
   "execution_count": null,
   "metadata": {
    "collapsed": true
   },
   "outputs": [],
   "source": [
    "\n"
   ]
  },
  {
   "cell_type": "code",
   "execution_count": null,
   "metadata": {},
   "outputs": [],
   "source": [
    "train_data=x_train.copy()\n",
    "knn_accuracy=[]\n",
    "y_actual=np.array(y_test.iloc[:,0])\n"
   ]
  },
  {
   "cell_type": "code",
   "execution_count": null,
   "metadata": {
    "collapsed": true
   },
   "outputs": [],
   "source": [
    "def l1_distance(x,y):\n",
    "    x=np.array(x)\n",
    "    y=np.array(y)\n",
    "    z=np.abs(x-y)\n",
    "    return np.sum(z)"
   ]
  },
  {
   "cell_type": "code",
   "execution_count": null,
   "metadata": {
    "collapsed": true
   },
   "outputs": [],
   "source": [
    "def knn_algorithm(train_data,test,k):\n",
    "    distance=train_data.apply(lambda x : l1_distance(x,test),axis=1)\n",
    "    train_data['distance']=pd.Series(distance,dtype=float)\n",
    "    train_data['y']=y_train.iloc[:,0]\n",
    "    train_data=train_data.sort_values(by=['distance'],ascending=True)\n",
    "    mean=np.mean(train_data.loc[0:k,'y'])\n",
    "    if(mean>=0.5):\n",
    "        return 1\n",
    "    else:\n",
    "        return 0"
   ]
  },
  {
   "cell_type": "code",
   "execution_count": null,
   "metadata": {
    "collapsed": true
   },
   "outputs": [],
   "source": [
    "for k in range(1,21):\n",
    "    knn_predictions=x_test.apply(lambda x: knn_algorithm(x_train.copy(),x,k),axis=1)\n",
    "    knn_predictions=np.array(knn_predictions)\n",
    "    z=(knn_predictions==y_actual)\n",
    "    z=((sum(z)/len(y_test))*100)\n",
    "    knn_accuracy.append(z)"
   ]
  }
 ],
 "metadata": {
  "kernelspec": {
   "display_name": "Python 3",
   "language": "python",
   "name": "python3"
  },
  "language_info": {
   "codemirror_mode": {
    "name": "ipython",
    "version": 3
   },
   "file_extension": ".py",
   "mimetype": "text/x-python",
   "name": "python",
   "nbconvert_exporter": "python",
   "pygments_lexer": "ipython3",
   "version": "3.6.1"
  }
 },
 "nbformat": 4,
 "nbformat_minor": 2
}
