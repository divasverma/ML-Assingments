{
 "cells": [
  {
   "cell_type": "code",
   "execution_count": 1,
   "metadata": {
    "collapsed": true
   },
   "outputs": [],
   "source": [
    "import pandas as pd\n",
    "import numpy as np\n",
    "import matplotlib.pyplot as plt\n"
   ]
  },
  {
   "cell_type": "code",
   "execution_count": 2,
   "metadata": {
    "collapsed": true
   },
   "outputs": [],
   "source": [
    "x_train=pd.read_csv('X_train.csv',header=None)\n",
    "y_train=pd.read_csv('y_train.csv',header=None)\n",
    "x_test=pd.read_csv('X_test.csv',header=None)\n",
    "y_test=pd.read_csv('y_test.csv',header=None)"
   ]
  },
  {
   "cell_type": "code",
   "execution_count": 3,
   "metadata": {
    "collapsed": true
   },
   "outputs": [],
   "source": [
    "#calculating the mle estimates\n",
    "pie_mle=(sum(y_train.iloc[:,0])/len(y_train))\n",
    "def calculate_mle_param():\n",
    "    params=[]\n",
    "    for i in range(54):\n",
    "        temp=[]\n",
    "        x1=x_train.iloc[:,i].copy()\n",
    "        var1=x1[y_train.iloc[:,0]==0]\n",
    "        var1=(sum(var1)/len(var1))\n",
    "        var2=x1[y_train.iloc[:,0]==1]\n",
    "        var2=(sum(var2)/len(var2))\n",
    "        temp.append(var1)\n",
    "        temp.append(var2)\n",
    "        params.append(temp)\n",
    "    for i in range(54,57):\n",
    "        temp=[]\n",
    "        x1=x_train.iloc[:,i].copy()\n",
    "        var1=x1[y_train.iloc[:,0]==0]\n",
    "        var1=(len(y_train.iloc[:,0]==0)/sum(np.log(var1)))\n",
    "        var2=x1[y_train.iloc[:,0]==1]\n",
    "        var2=(len(y_train.iloc[:,0]==1)/sum(np.log(var2)))\n",
    "        temp.append(var1)\n",
    "        temp.append(var2)\n",
    "        params.append(temp)\n",
    "    \n",
    "    return params"
   ]
  },
  {
   "cell_type": "code",
   "execution_count": 4,
   "metadata": {
    "collapsed": true
   },
   "outputs": [],
   "source": [
    "params=calculate_mle_param()"
   ]
  },
  {
   "cell_type": "code",
   "execution_count": 5,
   "metadata": {
    "collapsed": true
   },
   "outputs": [],
   "source": [
    "def naive_baiyes_predict(x):\n",
    "    \n",
    "    predict_zero=(1-pie_mle)\n",
    "    predict_one=(pie_mle)\n",
    "    \n",
    "    for i in range(54):\n",
    "        \n",
    "        theta_variable=params[i][0]\n",
    "        temp=(theta_variable**x[i])*((1-theta_variable)**(1-x[i]))\n",
    "        predict_zero=predict_zero*temp\n",
    "        \n",
    "        theta_variable=params[i][1]\n",
    "        temp=(theta_variable**x[i])*((1-theta_variable)**(1-x[i]))\n",
    "        predict_one=predict_one*temp\n",
    "        \n",
    "    for i in range(54,57):\n",
    "        \n",
    "        theta_variable=params[i][0]\n",
    "        temp=(theta_variable*(x[i]**(-theta_variable-1)))\n",
    "        predict_zero=predict_zero*temp\n",
    "        \n",
    "        theta_variable=params[i][1]\n",
    "        temp=(theta_variable*(x[i]**(-theta_variable-1)))\n",
    "        predict_one=predict_one*temp\n",
    "        \n",
    "    if(predict_zero>predict_one):\n",
    "        return 0\n",
    "    else:\n",
    "        return 1\n",
    "    "
   ]
  },
  {
   "cell_type": "code",
   "execution_count": 6,
   "metadata": {
    "collapsed": true
   },
   "outputs": [],
   "source": [
    "predicted=x_test.apply( lambda x: naive_baiyes_predict(x) , axis=1)"
   ]
  },
  {
   "cell_type": "code",
   "execution_count": 7,
   "metadata": {},
   "outputs": [
    {
     "data": {
      "text/plain": [
       "93.548387096774192"
      ]
     },
     "execution_count": 7,
     "metadata": {},
     "output_type": "execute_result"
    }
   ],
   "source": [
    "(sum(predicted==y_test.iloc[:,0])/len(y_test))*100"
   ]
  },
  {
   "cell_type": "code",
   "execution_count": 8,
   "metadata": {},
   "outputs": [
    {
     "name": "stdout",
     "output_type": "stream",
     "text": [
      "0 actual 0 predicted\n",
      "54\n",
      "0 actual 1 predicted\n",
      "2\n",
      "1 actual 0 predicted\n",
      "4\n",
      "1 actual 1 predicted\n",
      "33\n"
     ]
    }
   ],
   "source": [
    "predicted=(predicted)\n",
    "actual=(y_test.iloc[:,0])\n",
    "#both zero\n",
    "print(\"0 actual 0 predicted\")\n",
    "x=predicted==actual\n",
    "x=x[actual==0]\n",
    "print(sum(x))\n",
    "\n",
    "print(\"0 actual 1 predicted\")\n",
    "x=predicted!=actual\n",
    "x=x[actual==0]\n",
    "print(sum(x))\n",
    "\n",
    "\n",
    "print(\"1 actual 0 predicted\")\n",
    "x=predicted!=actual\n",
    "x=x[actual==1]\n",
    "print(sum(x))\n",
    "\n",
    "\n",
    "print(\"1 actual 1 predicted\")\n",
    "x=predicted==actual\n",
    "x=x[actual==1]\n",
    "print(sum(x))\n",
    "\n"
   ]
  },
  {
   "cell_type": "code",
   "execution_count": 9,
   "metadata": {
    "collapsed": true
   },
   "outputs": [],
   "source": [
    "params_df=pd.DataFrame(params)"
   ]
  },
  {
   "cell_type": "code",
   "execution_count": 10,
   "metadata": {},
   "outputs": [
    {
     "data": {
      "image/png": "[encoded data removed]",
      "text/plain": [
       "<matplotlib.figure.Figure at 0x10b64c2b0>"
      ]
     },
     "metadata": {},
     "output_type": "display_data"
    }
   ],
   "source": [
    "bernoulli=params_df.iloc[:54,1]\n",
    "bernoulli=np.array(bernoulli)\n",
    "plt.figure(figsize=(20,5))\n",
    "plt.stem(bernoulli, color='r')\n",
    "plt.show()"
   ]
  },
  {
   "cell_type": "code",
   "execution_count": 11,
   "metadata": {},
   "outputs": [
    {
     "data": {
      "image/png": "[encoded data removed]",
      "text/plain": [
       "<matplotlib.figure.Figure at 0x10c244588>"
      ]
     },
     "metadata": {},
     "output_type": "display_data"
    }
   ],
   "source": [
    "bernoulli=params_df.iloc[:54,0]\n",
    "bernoulli=np.array(bernoulli)\n",
    "plt.figure(figsize=(20,5))\n",
    "plt.stem(bernoulli, color='r')\n",
    "plt.show()"
   ]
  },
  {
   "cell_type": "code",
   "execution_count": 12,
   "metadata": {
    "collapsed": true
   },
   "outputs": [],
   "source": [
    "def logistic_regression_regular(X_train,Y_train,X_test,Y_test):\n",
    "    X_train_new=X_train.copy()\n",
    "    X_test_new=X_test.copy()\n",
    "    Y_train_new=Y_train.copy()\n",
    "    Y_test_new=Y_test.copy()\n",
    "\n",
    "    X_train_new = np.column_stack((X_train_new,np.ones(X_train_new.shape[0])))\n",
    "    X_test_new = np.column_stack((X_test_new,np.ones(X_test_new.shape[0])))\n",
    "\n",
    "    Y_train_new[Y_train_new==0]=-1\n",
    "    Y_test_new[Y_test_new==0]=-1\n",
    "\n",
    "    weights = np.zeros(X_train_new.shape[1]).reshape(-1,1)\n",
    "\n",
    "    def sigmoid(x):\n",
    "        return 1/(1+np.exp(-x))\n",
    "\n",
    "    iterations=10000\n",
    "    objective = []\n",
    "    for t in range(1,iterations+1):\n",
    "        eta = 1/(1e5*np.sqrt(t+1))\n",
    "        sigma_i = sigmoid(np.multiply(Y_train_new,X_train_new.dot(weights)))\n",
    "        objective.append(np.sum(np.log(sigma_i+1e-10)))\n",
    "        update = X_train_new.T.dot(np.multiply(Y_train_new,1-sigma_i))\n",
    "        weights += eta*update\n",
    "\n",
    "\n",
    "    predict_test = np.sign(X_test_new.dot(weights))\n",
    "    accuracy = sum(predict_test==Y_test_new)/len(predict_test)\n",
    "    print(\"Test set accuracy is\",accuracy)\n",
    "\n",
    "    plt.plot(range(1,iterations+1),objective)\n",
    "    plt.xlabel('iterations')\n",
    "    plt.ylabel('objective function')\n",
    "    plt.show()\n",
    "\n"
   ]
  },
  {
   "cell_type": "code",
   "execution_count": 13,
   "metadata": {
    "collapsed": true
   },
   "outputs": [],
   "source": [
    "def logistic_regression_newton(X_train,Y_train,X_test,Y_test):\n",
    "    X_train_new=X_train.copy()\n",
    "    X_test_new=X_test.copy()\n",
    "    Y_train_new=Y_train.copy()\n",
    "    Y_test_new=Y_test.copy()\n",
    "\n",
    "    X_train_new = np.column_stack((X_train_new,np.ones(X_train_new.shape[0])))\n",
    "    X_test_new = np.column_stack((X_test_new,np.ones(X_test_new.shape[0])))\n",
    "\n",
    "    Y_train_new[Y_train_new==0]=-1\n",
    "    Y_test_new[Y_test_new==0]=-1\n",
    "\n",
    "    weights = np.zeros(X_train_new.shape[1]).reshape(-1,1)\n",
    "\n",
    "    def sigmoid(x):\n",
    "        return 1/(1+np.exp(-x))\n",
    "\n",
    "    iterations=100\n",
    "    objective = []\n",
    "    for t in range(1,iterations+1):\n",
    "        eta = 1/np.sqrt(t+1)\n",
    "        sigma_i = sigmoid(np.multiply(Y_train_new,X_train_new.dot(weights)))\n",
    "        objective.append(np.sum(np.log(sigma_i+1e-10)))\n",
    "        second_grad = -np.multiply(np.multiply(sigma_i,1-sigma_i),X_train_new).T.dot(X_train_new)\n",
    "        first_grad = X_train_new.T.dot(np.multiply(Y_train_new,1-sigma_i))\n",
    "        weights -= eta*np.linalg.inv(second_grad).dot(first_grad)\n",
    "\n",
    "\n",
    "    predict_test = np.sign(X_test_new.dot(weights))\n",
    "    accuracy = sum(predict_test==Y_test_new)/len(predict_test)\n",
    "    print(\"Test set accuracy:\",accuracy)\n",
    "\n",
    "\n",
    "    plt.plot(range(1,iterations+1),objective)\n",
    "    plt.xlabel('iterations')\n",
    "    plt.ylabel('objective function')\n",
    "    #plt.title(figtitle)\n",
    "    plt.show()\n",
    "\n",
    "\n"
   ]
  },
  {
   "cell_type": "code",
   "execution_count": 14,
   "metadata": {
    "collapsed": true
   },
   "outputs": [],
   "source": [
    "x_train = np.array(x_train)\n",
    "x_test = np.array(x_test)\n",
    "y_train = np.array(y_train)\n",
    "y_test = np.array(y_test)\n"
   ]
  },
  {
   "cell_type": "code",
   "execution_count": 15,
   "metadata": {},
   "outputs": [
    {
     "name": "stderr",
     "output_type": "stream",
     "text": [
      "/Users/divasverma/anaconda/lib/python3.6/site-packages/ipykernel_launcher.py:16: RuntimeWarning: overflow encountered in exp\n",
      "  app.launch_new_instance()\n"
     ]
    },
    {
     "name": "stdout",
     "output_type": "stream",
     "text": [
      "Test set accuracy is [ 0.68817204]\n"
     ]
    },
    {
     "data": {
      "image/png": "[encoded data removed]",
      "text/plain": [
       "<matplotlib.figure.Figure at 0x10c2a2b70>"
      ]
     },
     "metadata": {},
     "output_type": "display_data"
    }
   ],
   "source": [
    "logistic_regression_regular(x_train,y_train,x_test,y_test)"
   ]
  },
  {
   "cell_type": "code",
   "execution_count": 16,
   "metadata": {},
   "outputs": [
    {
     "name": "stdout",
     "output_type": "stream",
     "text": [
      "Test set accuracy: [ 0.91397849]\n"
     ]
    },
    {
     "data": {
      "image/png": "[encoded data removed]",
      "text/plain": [
       "<matplotlib.figure.Figure at 0x10be9e048>"
      ]
     },
     "metadata": {},
     "output_type": "display_data"
    }
   ],
   "source": [
    "logistic_regression_newton(x_train,y_train,x_test,y_test)"
   ]
  },
  {
   "cell_type": "code",
   "execution_count": 17,
   "metadata": {
    "collapsed": true
   },
   "outputs": [],
   "source": [
    "y_test = np.squeeze(np.asarray(y_test))\n",
    "def predict(X_train, y_train, x_test, k):\n",
    "    distances = []\n",
    "    targets = []\n",
    "\n",
    "    for i in range(len(X_train)):\n",
    "        distance = np.sum(np.abs(x_test - X_train[i, :]))\n",
    "        distances.append([distance, i])\n",
    "\n",
    "    distances = sorted(distances)\n",
    "    \n",
    "    for i in range(k):\n",
    "        index = distances[i][1]\n",
    "        targets.append(y_train[index])\n",
    "\n",
    "    if(np.mean(targets)>=0.5):\n",
    "        return 1\n",
    "    else:\n",
    "        return 0"
   ]
  },
  {
   "cell_type": "code",
   "execution_count": 18,
   "metadata": {
    "collapsed": true
   },
   "outputs": [],
   "source": [
    "def kNearestNeighbor(X_train, y_train, X_test, predictions, k):\n",
    "\n",
    "    for i in range(len(X_test)):\n",
    "        predictions.append(predict(X_train, y_train, X_test[i, :], k))\n"
   ]
  },
  {
   "cell_type": "code",
   "execution_count": 19,
   "metadata": {
    "collapsed": true
   },
   "outputs": [],
   "source": [
    "knn_accuracy=[]\n",
    "for k in range(1,21):\n",
    "    predictions = []\n",
    "\n",
    "    kNearestNeighbor(x_train, y_train, x_test, predictions, k)\n",
    "    predictions = np.asarray(predictions)\n",
    "\n",
    "    accuracy = (sum(y_test==predictions)/len(predictions))*100\n",
    "    knn_accuracy.append(accuracy)\n"
   ]
  },
  {
   "cell_type": "code",
   "execution_count": 20,
   "metadata": {},
   "outputs": [
    {
     "data": {
      "image/png": "[encoded data removed]",
      "text/plain": [
       "<matplotlib.figure.Figure at 0x10f930908>"
      ]
     },
     "metadata": {},
     "output_type": "display_data"
    }
   ],
   "source": [
    "k_values=[i for i in range(1,21)]\n",
    "knn_accuracy=pd.Series(knn_accuracy,index=k_values)\n",
    "plt.figure()\n",
    "plt.plot(knn_accuracy)\n",
    "plt.xticks(k_values)\n",
    "plt.show()"
   ]
  },
  {
   "cell_type": "code",
   "execution_count": null,
   "metadata": {
    "collapsed": true
   },
   "outputs": [],
   "source": []
  }
 ],
 "metadata": {
  "kernelspec": {
   "display_name": "Python 3",
   "language": "python",
   "name": "python3"
  },
  "language_info": {
   "codemirror_mode": {
    "name": "ipython",
    "version": 3
   },
   "file_extension": ".py",
   "mimetype": "text/x-python",
   "name": "python",
   "nbconvert_exporter": "python",
   "pygments_lexer": "ipython3",
   "version": "3.6.1"
  }
 },
 "nbformat": 4,
 "nbformat_minor": 2
}
