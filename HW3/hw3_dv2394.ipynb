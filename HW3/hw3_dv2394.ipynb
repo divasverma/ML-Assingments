{
 "cells": [
  {
   "cell_type": "code",
   "execution_count": 591,
   "metadata": {
    "collapsed": true
   },
   "outputs": [],
   "source": [
    "import pandas as pd\n",
    "import numpy as np\n",
    "import matplotlib.pyplot as plt\n",
    "import math"
   ]
  },
  {
   "cell_type": "code",
   "execution_count": 592,
   "metadata": {
    "collapsed": true
   },
   "outputs": [],
   "source": [
    "x_train = pd.read_csv('gaussian_process/X_train.csv',header=None)\n",
    "x_test = pd.read_csv('gaussian_process/X_test.csv',header=None)\n",
    "y_train = pd.read_csv('gaussian_process/y_train.csv',header=None)\n",
    "y_test = pd.read_csv('gaussian_process/y_test.csv',header=None)"
   ]
  },
  {
   "cell_type": "code",
   "execution_count": 593,
   "metadata": {},
   "outputs": [],
   "source": [
    "x_train = np.array(x_train)\n",
    "x_test = np.array(x_test)\n",
    "y_train = np.array(y_train)\n",
    "y_test = np.array(y_test)"
   ]
  },
  {
   "cell_type": "code",
   "execution_count": 594,
   "metadata": {},
   "outputs": [],
   "source": [
    "y_test = np.squeeze(np.asarray(y_test))\n",
    "y_train = np.squeeze(np.asarray(y_train))"
   ]
  },
  {
   "cell_type": "code",
   "execution_count": 595,
   "metadata": {
    "collapsed": true
   },
   "outputs": [],
   "source": [
    "def kernel_function(x1,x2,b):\n",
    "    answer = np.exp((-1*np.sum((x1-x2)**2))/b)\n",
    "    return answer"
   ]
  },
  {
   "cell_type": "code",
   "execution_count": 596,
   "metadata": {
    "collapsed": true
   },
   "outputs": [],
   "source": [
    "def making_nn_kernel(b,x):\n",
    "    x_train=x.copy()\n",
    "    kernel_matrix = np.ones((x_train.shape[0],x_train.shape[0]))\n",
    "    for i in range(x_train.shape[0]):\n",
    "        for j in range(x_train.shape[0]):\n",
    "            x1 = x_train[i,:]\n",
    "            x2 = x_train[j,:]\n",
    "            kernel_matrix[i,j] = kernel_function(x1,x2,b)\n",
    "    return kernel_matrix"
   ]
  },
  {
   "cell_type": "code",
   "execution_count": 597,
   "metadata": {
    "collapsed": true
   },
   "outputs": [],
   "source": [
    "def prediction_gaussain(x0, b, x_train, y_train, sigma_square , kernel_matrix):\n",
    "    x_train_new = x_train.copy()\n",
    "    n = x_train_new.shape[0]\n",
    "    identity = np.identity(n) * sigma_square\n",
    "    kernel_x = x_train_new - x0\n",
    "    kernel_x = np.multiply(kernel_x,kernel_x)\n",
    "    kernel_x = np.sum(kernel_x,axis=1)\n",
    "    kernel_x = np.array([ np.exp(-a/b) for a in kernel_x ])\n",
    "    temp = identity + kernel_matrix\n",
    "    temp = np.linalg.inv(temp)\n",
    "    final = kernel_x.dot(temp)\n",
    "    final = final.dot(y_train)\n",
    "    return final\n",
    "    "
   ]
  },
  {
   "cell_type": "code",
   "execution_count": 598,
   "metadata": {},
   "outputs": [],
   "source": [
    "kernel_matrix = making_nn_kernel(5,x_train)"
   ]
  },
  {
   "cell_type": "code",
   "execution_count": 599,
   "metadata": {},
   "outputs": [
    {
     "data": {
      "text/plain": [
       "-6.0744533129940681"
      ]
     },
     "execution_count": 599,
     "metadata": {},
     "output_type": "execute_result"
    }
   ],
   "source": [
    "prediction_gaussain( x_test[3,:], 5 , x_train, y_train,0.1,kernel_matrix)"
   ]
  },
  {
   "cell_type": "code",
   "execution_count": 600,
   "metadata": {},
   "outputs": [],
   "source": [
    "b_list=[5,7,9,11,13,15]\n",
    "sigma_square_list=np.arange(0.1,1.1,0.1)"
   ]
  },
  {
   "cell_type": "code",
   "execution_count": 601,
   "metadata": {},
   "outputs": [],
   "source": [
    "errors=[]\n",
    "param1=[]\n",
    "param2=[]\n",
    "for b in b_list:\n",
    "    kernel_matrix = making_nn_kernel(b,x_train)\n",
    "    for sigma_square in sigma_square_list:\n",
    "        predictions = np.apply_along_axis(prediction_gaussain,1,x_test,b,x_train,y_train,sigma_square,kernel_matrix)\n",
    "        error = np.sqrt(np.sum((predictions-y_test)**2)/len(y_test))\n",
    "        errors.append(error)\n",
    "        param1.append(b)\n",
    "        param2.append(sigma_square)\n",
    "                        "
   ]
  },
  {
   "cell_type": "code",
   "execution_count": 602,
   "metadata": {
    "collapsed": true
   },
   "outputs": [],
   "source": [
    "results=pd.DataFrame({'b':param1,'sigma_sq':param2,'rmse':errors})"
   ]
  },
  {
   "cell_type": "code",
   "execution_count": 603,
   "metadata": {
    "scrolled": true
   },
   "outputs": [
    {
     "data": {
      "text/html": [
       "<div>\n",
       "<style>\n",
       "    .dataframe thead tr:only-child th {\n",
       "        text-align: right;\n",
       "    }\n",
       "\n",
       "    .dataframe thead th {\n",
       "        text-align: left;\n",
       "    }\n",
       "\n",
       "    .dataframe tbody tr th {\n",
       "        vertical-align: top;\n",
       "    }\n",
       "</style>\n",
       "<table border=\"1\" class=\"dataframe\">\n",
       "  <thead>\n",
       "    <tr style=\"text-align: right;\">\n",
       "      <th></th>\n",
       "      <th>b</th>\n",
       "      <th>rmse</th>\n",
       "      <th>sigma_sq</th>\n",
       "    </tr>\n",
       "  </thead>\n",
       "  <tbody>\n",
       "    <tr>\n",
       "      <th>30</th>\n",
       "      <td>11</td>\n",
       "      <td>1.890507</td>\n",
       "      <td>0.1</td>\n",
       "    </tr>\n",
       "    <tr>\n",
       "      <th>40</th>\n",
       "      <td>13</td>\n",
       "      <td>1.895849</td>\n",
       "      <td>0.1</td>\n",
       "    </tr>\n",
       "    <tr>\n",
       "      <th>20</th>\n",
       "      <td>9</td>\n",
       "      <td>1.897649</td>\n",
       "      <td>0.1</td>\n",
       "    </tr>\n",
       "    <tr>\n",
       "      <th>21</th>\n",
       "      <td>9</td>\n",
       "      <td>1.902519</td>\n",
       "      <td>0.2</td>\n",
       "    </tr>\n",
       "    <tr>\n",
       "      <th>11</th>\n",
       "      <td>7</td>\n",
       "      <td>1.904877</td>\n",
       "      <td>0.2</td>\n",
       "    </tr>\n",
       "    <tr>\n",
       "      <th>12</th>\n",
       "      <td>7</td>\n",
       "      <td>1.908080</td>\n",
       "      <td>0.3</td>\n",
       "    </tr>\n",
       "    <tr>\n",
       "      <th>50</th>\n",
       "      <td>15</td>\n",
       "      <td>1.909603</td>\n",
       "      <td>0.1</td>\n",
       "    </tr>\n",
       "    <tr>\n",
       "      <th>31</th>\n",
       "      <td>11</td>\n",
       "      <td>1.914981</td>\n",
       "      <td>0.2</td>\n",
       "    </tr>\n",
       "    <tr>\n",
       "      <th>13</th>\n",
       "      <td>7</td>\n",
       "      <td>1.915902</td>\n",
       "      <td>0.4</td>\n",
       "    </tr>\n",
       "    <tr>\n",
       "      <th>22</th>\n",
       "      <td>9</td>\n",
       "      <td>1.917648</td>\n",
       "      <td>0.3</td>\n",
       "    </tr>\n",
       "    <tr>\n",
       "      <th>10</th>\n",
       "      <td>7</td>\n",
       "      <td>1.920163</td>\n",
       "      <td>0.1</td>\n",
       "    </tr>\n",
       "    <tr>\n",
       "      <th>3</th>\n",
       "      <td>5</td>\n",
       "      <td>1.922198</td>\n",
       "      <td>0.4</td>\n",
       "    </tr>\n",
       "    <tr>\n",
       "      <th>2</th>\n",
       "      <td>5</td>\n",
       "      <td>1.923420</td>\n",
       "      <td>0.3</td>\n",
       "    </tr>\n",
       "    <tr>\n",
       "      <th>4</th>\n",
       "      <td>5</td>\n",
       "      <td>1.924769</td>\n",
       "      <td>0.5</td>\n",
       "    </tr>\n",
       "    <tr>\n",
       "      <th>14</th>\n",
       "      <td>7</td>\n",
       "      <td>1.924804</td>\n",
       "      <td>0.5</td>\n",
       "    </tr>\n",
       "    <tr>\n",
       "      <th>5</th>\n",
       "      <td>5</td>\n",
       "      <td>1.929213</td>\n",
       "      <td>0.6</td>\n",
       "    </tr>\n",
       "    <tr>\n",
       "      <th>23</th>\n",
       "      <td>9</td>\n",
       "      <td>1.932514</td>\n",
       "      <td>0.4</td>\n",
       "    </tr>\n",
       "    <tr>\n",
       "      <th>1</th>\n",
       "      <td>5</td>\n",
       "      <td>1.933135</td>\n",
       "      <td>0.2</td>\n",
       "    </tr>\n",
       "    <tr>\n",
       "      <th>15</th>\n",
       "      <td>7</td>\n",
       "      <td>1.933701</td>\n",
       "      <td>0.6</td>\n",
       "    </tr>\n",
       "    <tr>\n",
       "      <th>6</th>\n",
       "      <td>5</td>\n",
       "      <td>1.934634</td>\n",
       "      <td>0.7</td>\n",
       "    </tr>\n",
       "    <tr>\n",
       "      <th>41</th>\n",
       "      <td>13</td>\n",
       "      <td>1.935586</td>\n",
       "      <td>0.2</td>\n",
       "    </tr>\n",
       "    <tr>\n",
       "      <th>32</th>\n",
       "      <td>11</td>\n",
       "      <td>1.938849</td>\n",
       "      <td>0.3</td>\n",
       "    </tr>\n",
       "    <tr>\n",
       "      <th>7</th>\n",
       "      <td>5</td>\n",
       "      <td>1.940583</td>\n",
       "      <td>0.8</td>\n",
       "    </tr>\n",
       "    <tr>\n",
       "      <th>16</th>\n",
       "      <td>7</td>\n",
       "      <td>1.942254</td>\n",
       "      <td>0.7</td>\n",
       "    </tr>\n",
       "    <tr>\n",
       "      <th>24</th>\n",
       "      <td>9</td>\n",
       "      <td>1.945699</td>\n",
       "      <td>0.5</td>\n",
       "    </tr>\n",
       "    <tr>\n",
       "      <th>8</th>\n",
       "      <td>5</td>\n",
       "      <td>1.946820</td>\n",
       "      <td>0.9</td>\n",
       "    </tr>\n",
       "    <tr>\n",
       "      <th>17</th>\n",
       "      <td>7</td>\n",
       "      <td>1.950380</td>\n",
       "      <td>0.8</td>\n",
       "    </tr>\n",
       "    <tr>\n",
       "      <th>9</th>\n",
       "      <td>5</td>\n",
       "      <td>1.953213</td>\n",
       "      <td>1.0</td>\n",
       "    </tr>\n",
       "    <tr>\n",
       "      <th>25</th>\n",
       "      <td>9</td>\n",
       "      <td>1.957235</td>\n",
       "      <td>0.6</td>\n",
       "    </tr>\n",
       "    <tr>\n",
       "      <th>33</th>\n",
       "      <td>11</td>\n",
       "      <td>1.957936</td>\n",
       "      <td>0.4</td>\n",
       "    </tr>\n",
       "    <tr>\n",
       "      <th>18</th>\n",
       "      <td>7</td>\n",
       "      <td>1.958093</td>\n",
       "      <td>0.9</td>\n",
       "    </tr>\n",
       "    <tr>\n",
       "      <th>51</th>\n",
       "      <td>15</td>\n",
       "      <td>1.959549</td>\n",
       "      <td>0.2</td>\n",
       "    </tr>\n",
       "    <tr>\n",
       "      <th>42</th>\n",
       "      <td>13</td>\n",
       "      <td>1.964597</td>\n",
       "      <td>0.3</td>\n",
       "    </tr>\n",
       "    <tr>\n",
       "      <th>19</th>\n",
       "      <td>7</td>\n",
       "      <td>1.965438</td>\n",
       "      <td>1.0</td>\n",
       "    </tr>\n",
       "    <tr>\n",
       "      <th>0</th>\n",
       "      <td>5</td>\n",
       "      <td>1.966276</td>\n",
       "      <td>0.1</td>\n",
       "    </tr>\n",
       "    <tr>\n",
       "      <th>26</th>\n",
       "      <td>9</td>\n",
       "      <td>1.967403</td>\n",
       "      <td>0.7</td>\n",
       "    </tr>\n",
       "    <tr>\n",
       "      <th>34</th>\n",
       "      <td>11</td>\n",
       "      <td>1.973216</td>\n",
       "      <td>0.5</td>\n",
       "    </tr>\n",
       "    <tr>\n",
       "      <th>27</th>\n",
       "      <td>9</td>\n",
       "      <td>1.976492</td>\n",
       "      <td>0.8</td>\n",
       "    </tr>\n",
       "    <tr>\n",
       "      <th>28</th>\n",
       "      <td>9</td>\n",
       "      <td>1.984741</td>\n",
       "      <td>0.9</td>\n",
       "    </tr>\n",
       "    <tr>\n",
       "      <th>43</th>\n",
       "      <td>13</td>\n",
       "      <td>1.985502</td>\n",
       "      <td>0.4</td>\n",
       "    </tr>\n",
       "    <tr>\n",
       "      <th>35</th>\n",
       "      <td>11</td>\n",
       "      <td>1.985764</td>\n",
       "      <td>0.6</td>\n",
       "    </tr>\n",
       "    <tr>\n",
       "      <th>52</th>\n",
       "      <td>15</td>\n",
       "      <td>1.990804</td>\n",
       "      <td>0.3</td>\n",
       "    </tr>\n",
       "    <tr>\n",
       "      <th>29</th>\n",
       "      <td>9</td>\n",
       "      <td>1.992341</td>\n",
       "      <td>1.0</td>\n",
       "    </tr>\n",
       "    <tr>\n",
       "      <th>36</th>\n",
       "      <td>11</td>\n",
       "      <td>1.996375</td>\n",
       "      <td>0.7</td>\n",
       "    </tr>\n",
       "    <tr>\n",
       "      <th>44</th>\n",
       "      <td>13</td>\n",
       "      <td>2.001314</td>\n",
       "      <td>0.5</td>\n",
       "    </tr>\n",
       "    <tr>\n",
       "      <th>37</th>\n",
       "      <td>11</td>\n",
       "      <td>2.005603</td>\n",
       "      <td>0.8</td>\n",
       "    </tr>\n",
       "    <tr>\n",
       "      <th>53</th>\n",
       "      <td>15</td>\n",
       "      <td>2.011915</td>\n",
       "      <td>0.4</td>\n",
       "    </tr>\n",
       "    <tr>\n",
       "      <th>38</th>\n",
       "      <td>11</td>\n",
       "      <td>2.013835</td>\n",
       "      <td>0.9</td>\n",
       "    </tr>\n",
       "    <tr>\n",
       "      <th>45</th>\n",
       "      <td>13</td>\n",
       "      <td>2.013878</td>\n",
       "      <td>0.6</td>\n",
       "    </tr>\n",
       "    <tr>\n",
       "      <th>39</th>\n",
       "      <td>11</td>\n",
       "      <td>2.021345</td>\n",
       "      <td>1.0</td>\n",
       "    </tr>\n",
       "    <tr>\n",
       "      <th>46</th>\n",
       "      <td>13</td>\n",
       "      <td>2.024310</td>\n",
       "      <td>0.7</td>\n",
       "    </tr>\n",
       "    <tr>\n",
       "      <th>54</th>\n",
       "      <td>15</td>\n",
       "      <td>2.027370</td>\n",
       "      <td>0.5</td>\n",
       "    </tr>\n",
       "    <tr>\n",
       "      <th>47</th>\n",
       "      <td>13</td>\n",
       "      <td>2.033307</td>\n",
       "      <td>0.8</td>\n",
       "    </tr>\n",
       "    <tr>\n",
       "      <th>55</th>\n",
       "      <td>15</td>\n",
       "      <td>2.039465</td>\n",
       "      <td>0.6</td>\n",
       "    </tr>\n",
       "    <tr>\n",
       "      <th>48</th>\n",
       "      <td>13</td>\n",
       "      <td>2.041317</td>\n",
       "      <td>0.9</td>\n",
       "    </tr>\n",
       "    <tr>\n",
       "      <th>49</th>\n",
       "      <td>13</td>\n",
       "      <td>2.048642</td>\n",
       "      <td>1.0</td>\n",
       "    </tr>\n",
       "    <tr>\n",
       "      <th>56</th>\n",
       "      <td>15</td>\n",
       "      <td>2.049463</td>\n",
       "      <td>0.7</td>\n",
       "    </tr>\n",
       "    <tr>\n",
       "      <th>57</th>\n",
       "      <td>15</td>\n",
       "      <td>2.058105</td>\n",
       "      <td>0.8</td>\n",
       "    </tr>\n",
       "    <tr>\n",
       "      <th>58</th>\n",
       "      <td>15</td>\n",
       "      <td>2.065845</td>\n",
       "      <td>0.9</td>\n",
       "    </tr>\n",
       "    <tr>\n",
       "      <th>59</th>\n",
       "      <td>15</td>\n",
       "      <td>2.072976</td>\n",
       "      <td>1.0</td>\n",
       "    </tr>\n",
       "  </tbody>\n",
       "</table>\n",
       "</div>"
      ],
      "text/plain": [
       "     b      rmse  sigma_sq\n",
       "30  11  1.890507       0.1\n",
       "40  13  1.895849       0.1\n",
       "20   9  1.897649       0.1\n",
       "21   9  1.902519       0.2\n",
       "11   7  1.904877       0.2\n",
       "12   7  1.908080       0.3\n",
       "50  15  1.909603       0.1\n",
       "31  11  1.914981       0.2\n",
       "13   7  1.915902       0.4\n",
       "22   9  1.917648       0.3\n",
       "10   7  1.920163       0.1\n",
       "3    5  1.922198       0.4\n",
       "2    5  1.923420       0.3\n",
       "4    5  1.924769       0.5\n",
       "14   7  1.924804       0.5\n",
       "5    5  1.929213       0.6\n",
       "23   9  1.932514       0.4\n",
       "1    5  1.933135       0.2\n",
       "15   7  1.933701       0.6\n",
       "6    5  1.934634       0.7\n",
       "41  13  1.935586       0.2\n",
       "32  11  1.938849       0.3\n",
       "7    5  1.940583       0.8\n",
       "16   7  1.942254       0.7\n",
       "24   9  1.945699       0.5\n",
       "8    5  1.946820       0.9\n",
       "17   7  1.950380       0.8\n",
       "9    5  1.953213       1.0\n",
       "25   9  1.957235       0.6\n",
       "33  11  1.957936       0.4\n",
       "18   7  1.958093       0.9\n",
       "51  15  1.959549       0.2\n",
       "42  13  1.964597       0.3\n",
       "19   7  1.965438       1.0\n",
       "0    5  1.966276       0.1\n",
       "26   9  1.967403       0.7\n",
       "34  11  1.973216       0.5\n",
       "27   9  1.976492       0.8\n",
       "28   9  1.984741       0.9\n",
       "43  13  1.985502       0.4\n",
       "35  11  1.985764       0.6\n",
       "52  15  1.990804       0.3\n",
       "29   9  1.992341       1.0\n",
       "36  11  1.996375       0.7\n",
       "44  13  2.001314       0.5\n",
       "37  11  2.005603       0.8\n",
       "53  15  2.011915       0.4\n",
       "38  11  2.013835       0.9\n",
       "45  13  2.013878       0.6\n",
       "39  11  2.021345       1.0\n",
       "46  13  2.024310       0.7\n",
       "54  15  2.027370       0.5\n",
       "47  13  2.033307       0.8\n",
       "55  15  2.039465       0.6\n",
       "48  13  2.041317       0.9\n",
       "49  13  2.048642       1.0\n",
       "56  15  2.049463       0.7\n",
       "57  15  2.058105       0.8\n",
       "58  15  2.065845       0.9\n",
       "59  15  2.072976       1.0"
      ]
     },
     "execution_count": 603,
     "metadata": {},
     "output_type": "execute_result"
    }
   ],
   "source": [
    "results.to_csv('table.csv')\n",
    "results.sort_values(['rmse'],ascending=True)"
   ]
  },
  {
   "cell_type": "code",
   "execution_count": 604,
   "metadata": {},
   "outputs": [],
   "source": [
    "b=5\n",
    "sigma_square=2\n",
    "x_train_new=x_train[:,3]\n",
    "x_test_new=x_train[:,3]\n",
    "\n",
    "kernel_matrix = np.ones((x_train_new.shape[0],x_train_new.shape[0]))\n",
    "for i in range(x_train_new.shape[0]):\n",
    "    for j in range(x_train_new.shape[0]):\n",
    "        x1 = x_train_new[i]\n",
    "        x2 = x_train_new[j]\n",
    "        kernel_matrix[i,j] = kernel_function(x1,x2,b)\n",
    "\n"
   ]
  },
  {
   "cell_type": "code",
   "execution_count": 605,
   "metadata": {
    "collapsed": true
   },
   "outputs": [],
   "source": [
    "def prediction_gaussain_2(x0, b, x_train, y_train, sigma_square , kernel_matrix):\n",
    "    x_train_new = x_train.copy()\n",
    "    n = x_train_new.shape[0]\n",
    "    identity = np.identity(n) * sigma_square\n",
    "    kernel_x = x_train_new - x0\n",
    "    kernel_x = kernel_x*kernel_x\n",
    "    kernel_x = np.array([ np.exp(-a/b) for a in kernel_x ])\n",
    "    temp = identity + kernel_matrix\n",
    "    temp = np.linalg.inv(temp)\n",
    "    final = kernel_x.dot(temp)\n",
    "    final = final.dot(y_train)\n",
    "    return final\n",
    "\n"
   ]
  },
  {
   "cell_type": "code",
   "execution_count": 606,
   "metadata": {
    "collapsed": true
   },
   "outputs": [],
   "source": [
    "predictions = [ prediction_gaussain_2(a,b,x_train_new,y_train,sigma_square,kernel_matrix) for a in x_train_new ]"
   ]
  },
  {
   "cell_type": "code",
   "execution_count": 607,
   "metadata": {},
   "outputs": [],
   "source": [
    "new_df=pd.DataFrame({'train':x_train[:,3],'prediction':predictions})\n",
    "mean_prediction=new_df.groupby('train')['prediction'].mean()"
   ]
  },
  {
   "cell_type": "code",
   "execution_count": 610,
   "metadata": {},
   "outputs": [
    {
     "data": {
      "image/png": "[encoded data removed]",
      "text/plain": [
       "<matplotlib.figure.Figure at 0x11685ef28>"
      ]
     },
     "metadata": {},
     "output_type": "display_data"
    }
   ],
   "source": [
    "x4_dim=x_train[:,3]\n",
    "out=y_train\n",
    "plt.scatter(x4_dim,out)\n",
    "plt.plot(mean_prediction.index,mean_prediction,'r')\n",
    "plt.xlabel('4th dimension')\n",
    "plt.ylabel('outcome values')\n",
    "plt.show()"
   ]
  },
  {
   "cell_type": "code",
   "execution_count": 810,
   "metadata": {
    "collapsed": true
   },
   "outputs": [],
   "source": [
    "x_train = pd.read_csv('boosting/X_train.csv',header=None)\n",
    "x_test = pd.read_csv('boosting/X_test.csv',header=None)\n",
    "y_train = pd.read_csv('boosting/y_train.csv',header=None)\n",
    "y_test = pd.read_csv('boosting/y_test.csv',header=None)"
   ]
  },
  {
   "cell_type": "code",
   "execution_count": 811,
   "metadata": {
    "collapsed": true
   },
   "outputs": [],
   "source": [
    "x_train = np.matrix(x_train)\n",
    "x_test = np.matrix(x_test)\n",
    "y_train = np.matrix(y_train)\n",
    "y_test = np.matrix(y_test)"
   ]
  },
  {
   "cell_type": "code",
   "execution_count": 812,
   "metadata": {
    "collapsed": true
   },
   "outputs": [],
   "source": [
    "y_test = np.squeeze(np.asarray(y_test))\n",
    "y_train = np.squeeze(np.asarray(y_train))"
   ]
  },
  {
   "cell_type": "code",
   "execution_count": 813,
   "metadata": {},
   "outputs": [],
   "source": [
    "x_train = np.column_stack((x_train,np.ones(x_train.shape[0])))\n",
    "x_test = np.column_stack((x_test,np.ones(x_test.shape[0])))"
   ]
  },
  {
   "cell_type": "code",
   "execution_count": 814,
   "metadata": {},
   "outputs": [],
   "source": [
    "keys=list(range(1,x_train.shape[0]+1))\n",
    "freq=[0 for i in range (x_train.shape[0])]\n",
    "bootstrap_freq=dict(zip(keys,freq))"
   ]
  },
  {
   "cell_type": "code",
   "execution_count": 815,
   "metadata": {
    "collapsed": true
   },
   "outputs": [],
   "source": [
    "def create_bootsrtap_data(X_train,Y_train,w,freq_dict):\n",
    "    \n",
    "    x_train=X_train.copy()\n",
    "    y_train=Y_train.copy()\n",
    "    \n",
    "    random_index=np.random.choice(x_train.shape[0],x_train.shape[0],replace=True,p=list(w))\n",
    "    for a in random_index:\n",
    "        freq_dict[a+1]=freq_dict[a+1]+1\n",
    "    \n",
    "    x_train=x_train[random_index,:]\n",
    "    y_train=y_train[random_index]\n",
    "    return (x_train,y_train)"
   ]
  },
  {
   "cell_type": "code",
   "execution_count": 816,
   "metadata": {
    "collapsed": true
   },
   "outputs": [],
   "source": [
    "def update_weights(aplha_t,predictions_t,actual_y,w):\n",
    "    \n",
    "    w_new=w.copy()\n",
    "    sum_new=0\n",
    "    for i in range(len(w_new)):\n",
    "        w_new[i]=w_new[i]*np.exp(-1*aplha_t*actual_y[i]*predictions_t[i])\n",
    "    \n",
    "    sum_new=np.sum(w_new)\n",
    "    w_new=w_new/sum_new\n",
    "    return w_new"
   ]
  },
  {
   "cell_type": "code",
   "execution_count": 817,
   "metadata": {},
   "outputs": [],
   "source": [
    "def create_classifier_t(X_train,Y_train):\n",
    "    \n",
    "    x_train=X_train.copy()\n",
    "    y_train=Y_train.copy()\n",
    "    \n",
    "    x_transpose=x_train.transpose()\n",
    "    temp=np.matmul(x_transpose,x_train)\n",
    "    inverse = np.linalg.inv(temp)\n",
    "    weights = np.matmul(np.matmul(inverse,x_transpose),y_train)\n",
    "    \n",
    "    return weights\n"
   ]
  },
  {
   "cell_type": "code",
   "execution_count": 818,
   "metadata": {},
   "outputs": [],
   "source": [
    "weight_t=np.array([1/x_train.shape[0] for i in range((x_train.shape[0]))])\n",
    "alpha_list=[]\n",
    "et_list=[]\n",
    "train_predict=[0 for i in range(x_train.shape[0])]\n",
    "test_predict=[0 for i in range(x_test.shape[0])]\n",
    "train_error=[]\n",
    "test_error=[]\n",
    "\n",
    "for i in range(1500):\n",
    "    \n",
    "    X_train,Y_train=create_bootsrtap_data(x_train,y_train,weight_t,bootstrap_freq)\n",
    "    \n",
    "    reg_weights=create_classifier_t(X_train,Y_train)\n",
    "      \n",
    "    train_predictions=np.squeeze(np.asarray(np.matmul(x_train,reg_weights.T)))\n",
    "    test_predictions=np.squeeze(np.asarray(np.matmul(x_test,reg_weights.T)))\n",
    "    \n",
    "    train_predictions=np.sign(train_predictions)\n",
    "    test_predictions=np.sign(test_predictions)\n",
    "    \n",
    "    temp=y_train!=train_predictions\n",
    "    error_weight=weight_t*temp\n",
    "    e_t=np.sum(error_weight)\n",
    "    \n",
    "    if (e_t>0.5):\n",
    "        reg_weights=-1*reg_weights\n",
    "        \n",
    "        train_predictions=np.squeeze(np.asarray(np.matmul(x_train,reg_weights.T)))\n",
    "        test_predictions=np.squeeze(np.asarray(np.matmul(x_test,reg_weights.T)))\n",
    "        \n",
    "        train_predictions=np.sign(train_predictions)\n",
    "        test_predictions=np.sign(test_predictions)\n",
    "        \n",
    "        temp=y_train!=train_predictions\n",
    "        error_weight=weight_t*temp\n",
    "        e_t=np.sum(error_weight)\n",
    "\n",
    "    \n",
    "    et_list.append(e_t)\n",
    "    alpha_t=0.5*math.log((1-e_t)/e_t)\n",
    "    alpha_list.append(alpha_t)\n",
    "    \n",
    "    train_predict=(train_predict+alpha_t*train_predictions)\n",
    "    test_predict=(test_predict+alpha_t*test_predictions)\n",
    "    \n",
    "    train_error.append(np.mean(np.sign(train_predict)!=y_train))\n",
    "    test_error.append(np.mean(np.sign(test_predict)!=y_test))\n",
    "   \n",
    "    weight_t=update_weights(alpha_t,train_predictions,y_train,weight_t)\n",
    "\n",
    "    "
   ]
  },
  {
   "cell_type": "code",
   "execution_count": 819,
   "metadata": {
    "scrolled": true
   },
   "outputs": [
    {
     "data": {
      "image/png": "[encoded data removed]",
      "text/plain": [
       "<matplotlib.figure.Figure at 0x1147d7390>"
      ]
     },
     "metadata": {},
     "output_type": "display_data"
    }
   ],
   "source": [
    "x=list(range(1500))\n",
    "y=train_error\n",
    "plt.plot(x,y)\n",
    "xticks=np.linspace(1,1500,4)\n",
    "plt.xticks(xticks)\n",
    "\n",
    "y=test_error\n",
    "plt.plot(x,y)\n",
    "xticks=np.linspace(1,1500,4)\n",
    "plt.xlabel('iterations')\n",
    "plt.ylabel('error')\n",
    "plt.legend(['train error','test error'])\n",
    "plt.show()"
   ]
  },
  {
   "cell_type": "code",
   "execution_count": 820,
   "metadata": {},
   "outputs": [
    {
     "data": {
      "image/png": "[encoded data removed]",
      "text/plain": [
       "<matplotlib.figure.Figure at 0x11619cda0>"
      ]
     },
     "metadata": {},
     "output_type": "display_data"
    }
   ],
   "source": [
    "x=list(range(1500))\n",
    "y=alpha_list\n",
    "plt.plot(x,y)\n",
    "plt.xlabel('iterations')\n",
    "plt.title('alpha at iteration t')\n",
    "xticks=np.linspace(1,1500,4)\n",
    "plt.xticks(xticks)\n",
    "plt.show()"
   ]
  },
  {
   "cell_type": "code",
   "execution_count": 821,
   "metadata": {},
   "outputs": [
    {
     "data": {
      "image/png": "[encoded data removed]",
      "text/plain": [
       "<matplotlib.figure.Figure at 0x1167c3b70>"
      ]
     },
     "metadata": {},
     "output_type": "display_data"
    }
   ],
   "source": [
    "x=list(range(1500))\n",
    "y=et_list\n",
    "plt.plot(x,y)\n",
    "plt.xlabel('iterations')\n",
    "plt.title('error at iteration t')\n",
    "xticks=np.linspace(1,1500,4)\n",
    "plt.xticks(xticks)\n",
    "plt.show()"
   ]
  },
  {
   "cell_type": "code",
   "execution_count": 822,
   "metadata": {},
   "outputs": [
    {
     "data": {
      "image/png": "[encoded data removed]",
      "text/plain": [
       "<matplotlib.figure.Figure at 0x115613630>"
      ]
     },
     "metadata": {},
     "output_type": "display_data"
    }
   ],
   "source": [
    "#upper bound for training error\n",
    "var=0\n",
    "upper_training=[]\n",
    "for i in range(1500):\n",
    "    var=var+(0.5-et_list[i])**2\n",
    "    upper=np.exp(-2*var)\n",
    "    upper_training.append(upper)\n",
    "    \n",
    "x=list(range(1,1501))\n",
    "y=upper_training\n",
    "plt.plot(x,y)\n",
    "plt.xlabel('iterations')\n",
    "plt.title('upper bound on training error')\n",
    "xticks=np.linspace(1,1500,4)\n",
    "plt.xticks(xticks)\n",
    "plt.show()\n",
    "    "
   ]
  },
  {
   "cell_type": "code",
   "execution_count": 823,
   "metadata": {},
   "outputs": [
    {
     "data": {
      "image/png": "[encoded data removed]",
      "text/plain": [
       "<matplotlib.figure.Figure at 0x1148a70b8>"
      ]
     },
     "metadata": {},
     "output_type": "display_data"
    }
   ],
   "source": [
    "#plotting histogram for frequency\n",
    "x=list(bootstrap_freq.keys())\n",
    "y=list(bootstrap_freq.values())\n",
    "plt.bar(x,y)\n",
    "plt.xlabel('data indexes')\n",
    "plt.title('Histogram of frequency of selection of data points')\n",
    "plt.show()"
   ]
  },
  {
   "cell_type": "code",
   "execution_count": null,
   "metadata": {
    "collapsed": true
   },
   "outputs": [],
   "source": []
  }
 ],
 "metadata": {
  "kernelspec": {
   "display_name": "Python 3",
   "language": "python",
   "name": "python3"
  },
  "language_info": {
   "codemirror_mode": {
    "name": "ipython",
    "version": 3
   },
   "file_extension": ".py",
   "mimetype": "text/x-python",
   "name": "python",
   "nbconvert_exporter": "python",
   "pygments_lexer": "ipython3",
   "version": "3.6.1"
  }
 },
 "nbformat": 4,
 "nbformat_minor": 2
}
